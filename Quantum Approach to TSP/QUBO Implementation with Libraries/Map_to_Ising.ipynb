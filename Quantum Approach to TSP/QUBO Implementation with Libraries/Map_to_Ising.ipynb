{
  "nbformat": 4,
  "nbformat_minor": 0,
  "metadata": {
    "colab": {
      "provenance": []
    },
    "kernelspec": {
      "name": "python3",
      "display_name": "Python 3"
    },
    "language_info": {
      "name": "python"
    }
  },
  "cells": [
    {
      "cell_type": "markdown",
      "source": [
        "Source: https://qiskit-community.github.io/qiskit-optimization/tutorials/06_examples_max_cut_and_tsp.html#Max-Cut-problem"
      ],
      "metadata": {
        "id": "eYY21qE9Syft"
      }
    },
    {
      "cell_type": "markdown",
      "source": [
        "# Traveling Salesman Problem (TSP) – Mathematical Formulation\n",
        "\n",
        "The **Traveling Salesman Problem (TSP)** is a well-known problem in computer science and mathematics. It asks:\n",
        "\n",
        "> Given a list of cities and the distances between each pair, what is the shortest possible route that visits each city exactly once and returns to the starting city?\n",
        "\n",
        "This is a classic **NP-hard** problem, meaning that no algorithm is known to solve it efficiently for all possible inputs. Despite its simplicity, TSP has drawn attention for over two centuries due to its difficulty and broad applicability.\n",
        "\n",
        "**Real-world applications** include:\n",
        "- Logistics and route planning\n",
        "- Circuit design\n",
        "- Genomics and biology\n",
        "- Marketing and operations research\n",
        "\n",
        "---\n",
        "\n",
        "**Graph Representation**\n",
        "\n",
        "TSP can be represented as a graph:\n",
        "\n",
        "- Each **city** is a **node** (or vertex).\n",
        "- Each **path** between cities is an **edge** with an associated **distance** or **cost**.\n",
        "\n",
        "The goal is to find the shortest **Hamiltonian cycle** — a closed path that visits every node exactly once and returns to the starting node.\n",
        "\n",
        "---\n",
        "\n",
        "**Mathematical Formulation**\n",
        "\n",
        "Let $N$ be the number of cities. Define binary variables:\n",
        "\n",
        "$$\n",
        "x_{i,t} =\n",
        "\\begin{cases}\n",
        "1 & \\text{if city } i \\text{ is visited at time } t \\\\\n",
        "0 & \\text{otherwise}\n",
        "\\end{cases}\n",
        "$$\n",
        "\n",
        "These variables must satisfy two constraints:\n",
        "\n",
        "1. **Each city is visited exactly once:**\n",
        "\n",
        "$$\n",
        "\\sum_{t=0}^{N-1} x_{i,t} = 1 \\quad \\text{for all } i = 0, 1, ..., N-1\n",
        "$$\n",
        "\n",
        "2. **Each time step must have exactly one city:**\n",
        "\n",
        "$$\n",
        "\\sum_{i=0}^{N-1} x_{i,t} = 1 \\quad \\text{for all } t = 0, 1, ..., N-1\n",
        "$$\n",
        "\n",
        "---\n",
        "\n",
        "**Objective Function**\n",
        "\n",
        "Let $D_{ij}$ be the distance between cities  $i$ and $j$. The total tour cost is the sum of the distances between consecutive cities in the tour:\n",
        "\n",
        "$$\n",
        "\\text{Cost} = \\sum_{i,j,t} D_{ij} \\cdot x_{i,t} \\cdot x_{j,(t+1) \\mod N}\n",
        "$$\n",
        "\n",
        "Our objective is to **minimize** this cost.\n",
        "\n",
        "---\n",
        "\n",
        "**Mapping to the Ising Model (for quantum or QUBO solvers)**\n",
        "\n",
        "We can convert the constrained problem to an unconstrained form by introducing a **penalized objective function**:\n",
        "\n",
        "$$\n",
        "H = A \\cdot H_{\\text{constraints}} + B \\cdot H_{\\text{distance}}\n",
        "$$\n",
        "\n",
        "Where:\n",
        "- $H_{\\text{constraints}}$ enforces the valid tour conditions.\n",
        "- $H_{\\text{distance}}$ encodes the cost to be minimized.\n",
        "- $A \\gg B$ ensures constraints are strictly enforced.\n",
        "\n",
        "This is the form used when solving TSP on quantum devices or with optimization packages that accept Ising or QUBO input."
      ],
      "metadata": {
        "id": "imC4rhusZYF_"
      }
    },
    {
      "cell_type": "markdown",
      "source": [
        "## Installing the Required packages"
      ],
      "metadata": {
        "id": "vLu1i3x-cVrN"
      }
    },
    {
      "cell_type": "code",
      "source": [
        "!pip install qiskit==1.0.1\n",
        "!pip install qiskit-optimization==0.6.1\n",
        "!pip install qiskit-algorithms==0.3.0\n",
        "# !pip install numpy==1.23.5 --force-reinstall"
      ],
      "metadata": {
        "colab": {
          "base_uri": "https://localhost:8080/"
        },
        "id": "AJim8pSgTQrt",
        "outputId": "1bd89557-d9d7-4954-e5aa-122b2e68f88f"
      },
      "execution_count": 1,
      "outputs": [
        {
          "output_type": "stream",
          "name": "stdout",
          "text": [
            "Requirement already satisfied: qiskit==1.0.1 in /usr/local/lib/python3.11/dist-packages (1.0.1)\n",
            "Requirement already satisfied: rustworkx>=0.14.0 in /usr/local/lib/python3.11/dist-packages (from qiskit==1.0.1) (0.16.0)\n",
            "Requirement already satisfied: numpy<2,>=1.17 in /usr/local/lib/python3.11/dist-packages (from qiskit==1.0.1) (1.23.5)\n",
            "Requirement already satisfied: scipy>=1.5 in /usr/local/lib/python3.11/dist-packages (from qiskit==1.0.1) (1.15.3)\n",
            "Requirement already satisfied: sympy>=1.3 in /usr/local/lib/python3.11/dist-packages (from qiskit==1.0.1) (1.13.1)\n",
            "Requirement already satisfied: dill>=0.3 in /usr/local/lib/python3.11/dist-packages (from qiskit==1.0.1) (0.3.7)\n",
            "Requirement already satisfied: python-dateutil>=2.8.0 in /usr/local/lib/python3.11/dist-packages (from qiskit==1.0.1) (2.9.0.post0)\n",
            "Requirement already satisfied: stevedore>=3.0.0 in /usr/local/lib/python3.11/dist-packages (from qiskit==1.0.1) (5.4.1)\n",
            "Requirement already satisfied: typing-extensions in /usr/local/lib/python3.11/dist-packages (from qiskit==1.0.1) (4.13.2)\n",
            "Requirement already satisfied: symengine>=0.11 in /usr/local/lib/python3.11/dist-packages (from qiskit==1.0.1) (0.14.1)\n",
            "Requirement already satisfied: six>=1.5 in /usr/local/lib/python3.11/dist-packages (from python-dateutil>=2.8.0->qiskit==1.0.1) (1.17.0)\n",
            "Requirement already satisfied: pbr>=2.0.0 in /usr/local/lib/python3.11/dist-packages (from stevedore>=3.0.0->qiskit==1.0.1) (6.1.1)\n",
            "Requirement already satisfied: mpmath<1.4,>=1.1.0 in /usr/local/lib/python3.11/dist-packages (from sympy>=1.3->qiskit==1.0.1) (1.3.0)\n",
            "Requirement already satisfied: setuptools in /usr/local/lib/python3.11/dist-packages (from pbr>=2.0.0->stevedore>=3.0.0->qiskit==1.0.1) (75.2.0)\n",
            "Requirement already satisfied: qiskit-optimization==0.6.1 in /usr/local/lib/python3.11/dist-packages (0.6.1)\n",
            "Requirement already satisfied: qiskit>=0.44 in /usr/local/lib/python3.11/dist-packages (from qiskit-optimization==0.6.1) (1.0.1)\n",
            "Requirement already satisfied: qiskit-algorithms>=0.2.0 in /usr/local/lib/python3.11/dist-packages (from qiskit-optimization==0.6.1) (0.3.0)\n",
            "Requirement already satisfied: scipy>=1.9.0 in /usr/local/lib/python3.11/dist-packages (from qiskit-optimization==0.6.1) (1.15.3)\n",
            "Requirement already satisfied: numpy>=1.17 in /usr/local/lib/python3.11/dist-packages (from qiskit-optimization==0.6.1) (1.23.5)\n",
            "Requirement already satisfied: docplex!=2.24.231,>=2.21.207 in /usr/local/lib/python3.11/dist-packages (from qiskit-optimization==0.6.1) (2.29.245)\n",
            "Requirement already satisfied: setuptools>=40.1.0 in /usr/local/lib/python3.11/dist-packages (from qiskit-optimization==0.6.1) (75.2.0)\n",
            "Requirement already satisfied: networkx>=2.6.3 in /usr/local/lib/python3.11/dist-packages (from qiskit-optimization==0.6.1) (3.4.2)\n",
            "Requirement already satisfied: six in /usr/local/lib/python3.11/dist-packages (from docplex!=2.24.231,>=2.21.207->qiskit-optimization==0.6.1) (1.17.0)\n",
            "Requirement already satisfied: rustworkx>=0.14.0 in /usr/local/lib/python3.11/dist-packages (from qiskit>=0.44->qiskit-optimization==0.6.1) (0.16.0)\n",
            "Requirement already satisfied: sympy>=1.3 in /usr/local/lib/python3.11/dist-packages (from qiskit>=0.44->qiskit-optimization==0.6.1) (1.13.1)\n",
            "Requirement already satisfied: dill>=0.3 in /usr/local/lib/python3.11/dist-packages (from qiskit>=0.44->qiskit-optimization==0.6.1) (0.3.7)\n",
            "Requirement already satisfied: python-dateutil>=2.8.0 in /usr/local/lib/python3.11/dist-packages (from qiskit>=0.44->qiskit-optimization==0.6.1) (2.9.0.post0)\n",
            "Requirement already satisfied: stevedore>=3.0.0 in /usr/local/lib/python3.11/dist-packages (from qiskit>=0.44->qiskit-optimization==0.6.1) (5.4.1)\n",
            "Requirement already satisfied: typing-extensions in /usr/local/lib/python3.11/dist-packages (from qiskit>=0.44->qiskit-optimization==0.6.1) (4.13.2)\n",
            "Requirement already satisfied: symengine>=0.11 in /usr/local/lib/python3.11/dist-packages (from qiskit>=0.44->qiskit-optimization==0.6.1) (0.14.1)\n",
            "Requirement already satisfied: pbr>=2.0.0 in /usr/local/lib/python3.11/dist-packages (from stevedore>=3.0.0->qiskit>=0.44->qiskit-optimization==0.6.1) (6.1.1)\n",
            "Requirement already satisfied: mpmath<1.4,>=1.1.0 in /usr/local/lib/python3.11/dist-packages (from sympy>=1.3->qiskit>=0.44->qiskit-optimization==0.6.1) (1.3.0)\n",
            "Requirement already satisfied: qiskit-algorithms==0.3.0 in /usr/local/lib/python3.11/dist-packages (0.3.0)\n",
            "Requirement already satisfied: qiskit>=0.44 in /usr/local/lib/python3.11/dist-packages (from qiskit-algorithms==0.3.0) (1.0.1)\n",
            "Requirement already satisfied: scipy>=1.4 in /usr/local/lib/python3.11/dist-packages (from qiskit-algorithms==0.3.0) (1.15.3)\n",
            "Requirement already satisfied: numpy>=1.17 in /usr/local/lib/python3.11/dist-packages (from qiskit-algorithms==0.3.0) (1.23.5)\n",
            "Requirement already satisfied: rustworkx>=0.14.0 in /usr/local/lib/python3.11/dist-packages (from qiskit>=0.44->qiskit-algorithms==0.3.0) (0.16.0)\n",
            "Requirement already satisfied: sympy>=1.3 in /usr/local/lib/python3.11/dist-packages (from qiskit>=0.44->qiskit-algorithms==0.3.0) (1.13.1)\n",
            "Requirement already satisfied: dill>=0.3 in /usr/local/lib/python3.11/dist-packages (from qiskit>=0.44->qiskit-algorithms==0.3.0) (0.3.7)\n",
            "Requirement already satisfied: python-dateutil>=2.8.0 in /usr/local/lib/python3.11/dist-packages (from qiskit>=0.44->qiskit-algorithms==0.3.0) (2.9.0.post0)\n",
            "Requirement already satisfied: stevedore>=3.0.0 in /usr/local/lib/python3.11/dist-packages (from qiskit>=0.44->qiskit-algorithms==0.3.0) (5.4.1)\n",
            "Requirement already satisfied: typing-extensions in /usr/local/lib/python3.11/dist-packages (from qiskit>=0.44->qiskit-algorithms==0.3.0) (4.13.2)\n",
            "Requirement already satisfied: symengine>=0.11 in /usr/local/lib/python3.11/dist-packages (from qiskit>=0.44->qiskit-algorithms==0.3.0) (0.14.1)\n",
            "Requirement already satisfied: six>=1.5 in /usr/local/lib/python3.11/dist-packages (from python-dateutil>=2.8.0->qiskit>=0.44->qiskit-algorithms==0.3.0) (1.17.0)\n",
            "Requirement already satisfied: pbr>=2.0.0 in /usr/local/lib/python3.11/dist-packages (from stevedore>=3.0.0->qiskit>=0.44->qiskit-algorithms==0.3.0) (6.1.1)\n",
            "Requirement already satisfied: mpmath<1.4,>=1.1.0 in /usr/local/lib/python3.11/dist-packages (from sympy>=1.3->qiskit>=0.44->qiskit-algorithms==0.3.0) (1.3.0)\n",
            "Requirement already satisfied: setuptools in /usr/local/lib/python3.11/dist-packages (from pbr>=2.0.0->stevedore>=3.0.0->qiskit>=0.44->qiskit-algorithms==0.3.0) (75.2.0)\n"
          ]
        }
      ]
    },
    {
      "cell_type": "code",
      "execution_count": 2,
      "metadata": {
        "id": "xRh7Soh2Svg4"
      },
      "outputs": [],
      "source": [
        "# useful additional packages\n",
        "import matplotlib.pyplot as plt\n",
        "import numpy as np\n",
        "import networkx as nx\n",
        "\n",
        "from qiskit.circuit.library import TwoLocal\n",
        "from qiskit_optimization.applications import Maxcut, Tsp\n",
        "from qiskit_algorithms import SamplingVQE, NumPyMinimumEigensolver\n",
        "from qiskit_algorithms.optimizers import SPSA\n",
        "from qiskit_algorithms.utils import algorithm_globals\n",
        "from qiskit.primitives import Sampler\n",
        "from qiskit_optimization.algorithms import MinimumEigenOptimizer"
      ]
    },
    {
      "cell_type": "markdown",
      "source": [
        "**Graph Visualization Function**\n",
        "\n",
        "This function is used to visually represent the cities (nodes) and the distances (edges) in the Traveling Salesman Problem.\n",
        "\n",
        "- The graph is drawn using **NetworkX** and **Matplotlib**.\n",
        "- Each node represents a city, and each edge represents the path (or distance) between two cities.\n",
        "- The `colors` argument allows you to specify custom colors for nodes (useful when highlighting visited cities or paths).\n",
        "- `pos` is the position layout dictionary that determines where each node appears on the plot.\n",
        "- The weights of the edges (distances) are also shown as labels on the graph for clarity.\n",
        "\n",
        "This visual aid helps to better understand the structure of the problem and can assist in verifying the results of the algorithm."
      ],
      "metadata": {
        "id": "Tlvui-xddP7d"
      }
    },
    {
      "cell_type": "code",
      "source": [
        "# draw graph function to display the graph\n",
        "\n",
        "# def draw_graph(G, colors, pos):\n",
        "#     default_axes = plt.axes(frameon=True)\n",
        "#     nx.draw_networkx(G, node_color=colors, node_size=600, alpha=0.8, ax=default_axes, pos=pos)\n",
        "#     edge_labels = nx.get_edge_attributes(G, \"weight\")\n",
        "#     nx.draw_networkx_edge_labels(G, pos=pos, edge_labels=edge_labels)\n",
        "\n",
        "from rustworkx.visualization import mpl_draw\n",
        "import rustworkx as rx\n",
        "\n",
        "def draw_rx_graph(nx_graph, node_color=\"#1192E8\"):\n",
        "    \"\"\"\n",
        "    Converts a NetworkX graph to a rustworkx graph and visualizes it.\n",
        "\n",
        "    Parameters:\n",
        "    - nx_graph: A NetworkX graph object (e.g., tsp.graph)\n",
        "    - node_color: Color of the nodes in hex format or color name\n",
        "    \"\"\"\n",
        "    # Create a rustworkx graph\n",
        "    G_rx = rx.PyGraph()\n",
        "    G_rx.add_nodes_from(list(nx_graph.nodes))\n",
        "\n",
        "    # Extract edges with weights\n",
        "    edges = [(u, v, d.get(\"weight\", 1.0)) for u, v, d in nx_graph.edges(data=True)]\n",
        "    G_rx.add_edges_from(edges)\n",
        "\n",
        "    # Use shell layout or any other layout rustworkx supports\n",
        "    mpl_draw(G_rx, pos=rx.shell_layout(G_rx), with_labels=True, edge_labels=str, node_color=node_color)\n"
      ],
      "metadata": {
        "id": "6bubKyKqUq3L"
      },
      "execution_count": 3,
      "outputs": []
    },
    {
      "cell_type": "markdown",
      "source": [
        "**Generating a Random TSP Instance**\n",
        "\n",
        "This code block creates a simple Traveling Salesman Problem instance with 3 nodes (cities).\n",
        "\n",
        "- `n` sets the number of cities.\n",
        "- `num_qubits = n^2` calculates the number of qubits required for mapping this TSP to an Ising model, where each node has a time slot.\n",
        "- `Tsp.create_random_instance(n, seed=123)` generates a random, fully connected graph of 3 nodes using a fixed seed for reproducibility.\n",
        "- The graph's adjacency matrix (`adj_matrix`) represents the distances between all pairs of cities.\n",
        "- `colors` assigns a default red color (`\"r\"`) to all the cities.\n",
        "- `pos` stores the positions of each node to ensure consistent and meaningful plotting.\n",
        "- Finally, the `draw_graph()` function is called to visualize the generated TSP graph with edge weights representing the distances.\n",
        "\n",
        "This setup allows us to simulate and solve small TSP instances visually and computationally.\n"
      ],
      "metadata": {
        "id": "_y5bhvmpdZQA"
      }
    },
    {
      "cell_type": "code",
      "source": [
        "# Generating a graph of 3 nodes\n",
        "n = 4\n",
        "num_qubits = n**2\n",
        "tsp = Tsp.create_random_instance(n, seed=123)\n",
        "adj_matrix = nx.to_numpy_array(tsp.graph)\n",
        "print(\"distance\\n\", adj_matrix)\n",
        "\n",
        "draw_rx_graph(tsp.graph)  # no need to manually pass colors or pos"
      ],
      "metadata": {
        "id": "vJ3rCq40Tl1l",
        "colab": {
          "base_uri": "https://localhost:8080/",
          "height": 607
        },
        "outputId": "05d87486-5d82-4e09-c4ab-4bfc7fe75dcf"
      },
      "execution_count": 9,
      "outputs": [
        {
          "output_type": "stream",
          "name": "stdout",
          "text": [
            "distance\n",
            " [[ 0. 48. 91. 33.]\n",
            " [48.  0. 63. 71.]\n",
            " [91. 63.  0. 92.]\n",
            " [33. 71. 92.  0.]]\n"
          ]
        },
        {
          "output_type": "display_data",
          "data": {
            "text/plain": [
              "<Figure size 640x480 with 1 Axes>"
            ],
            "image/png": "[encoded data removed]"
          },
          "metadata": {}
        }
      ]
    },
    {
      "cell_type": "markdown",
      "source": [
        "**Brute Force Solution to the Traveling Salesman Problem**\n",
        "\n",
        "This section implements and visualizes a brute-force approach to solving the Traveling Salesman Problem (TSP) for a small number of nodes.\n",
        "\n",
        "- `brute_force_tsp(w, N)` takes the adjacency matrix `w` and number of nodes `N` and tries **all possible permutations** of cities (excluding the start node 0) to find the optimal route.\n",
        "- For each permutation:\n",
        "  - It calculates the **total distance** traveled if the salesman follows that path and returns to the starting node.\n",
        "  - If this distance is less than the previously best-known distance, it updates the best solution and prints it.\n",
        "- Finally, it returns the best distance and corresponding order of nodes visited.\n",
        "\n",
        "This method is only feasible for very small graphs (like 3-5 nodes) because its time complexity is $O(n!)$ due to checking every possible permutation.\n",
        "\n",
        "The `draw_tsp_solution()` function then:\n",
        "- **Creates a directed version** of the TSP graph (`G2`) to reflect the order of the path found.\n",
        "- Adds directed edges according to the optimal order.\n",
        "- Uses NetworkX and Matplotlib to **visualize the solution path**, highlighting the route and distances.\n",
        "\n",
        "This visualization provides an intuitive understanding of the brute-force solution's output.\n"
      ],
      "metadata": {
        "id": "A0F4xkQmdfrH"
      }
    },
    {
      "cell_type": "code",
      "source": [
        "from itertools import permutations\n",
        "\n",
        "\n",
        "def brute_force_tsp(w, N):\n",
        "    a = list(permutations(range(1, N)))\n",
        "    last_best_distance = 1e10\n",
        "    for i in a:\n",
        "        distance = 0\n",
        "        pre_j = 0\n",
        "        for j in i:\n",
        "            distance = distance + w[j, pre_j]\n",
        "            pre_j = j\n",
        "        distance = distance + w[pre_j, 0]\n",
        "        order = (0,) + i\n",
        "        if distance < last_best_distance:\n",
        "            best_order = order\n",
        "            last_best_distance = distance\n",
        "            print(\"order = \" + str(order) + \" Distance = \" + str(distance))\n",
        "    return last_best_distance, best_order\n",
        "\n",
        "\n",
        "best_distance, best_order = brute_force_tsp(adj_matrix, n)\n",
        "print(\n",
        "    \"Best order from brute force = \"\n",
        "    + str(best_order)\n",
        "    + \" with total distance = \"\n",
        "    + str(best_distance)\n",
        ")\n",
        "\n",
        "\n",
        "def draw_rx_tsp_solution(nx_graph, order, node_color=\"#1192E8\"):\n",
        "    \"\"\"\n",
        "    Draws the TSP solution path using Rustworkx.\n",
        "\n",
        "    Parameters:\n",
        "    - nx_graph: the original NetworkX graph (e.g., tsp.graph)\n",
        "    - order: list or tuple representing the path (e.g., from brute force)\n",
        "    - node_color: Hex color for nodes (default blue)\n",
        "    \"\"\"\n",
        "    G_rx = rx.PyDiGraph()\n",
        "    G_rx.add_nodes_from(list(nx_graph.nodes))\n",
        "\n",
        "    # Add the ordered edges to the DiGraph with weights\n",
        "    n = len(order)\n",
        "    for i in range(n):\n",
        "        j = (i + 1) % n\n",
        "        u = order[i]\n",
        "        v = order[j]\n",
        "        weight = nx_graph[u][v].get(\"weight\", 1.0)\n",
        "        G_rx.add_edge(u, v, weight)\n",
        "\n",
        "    # Draw with node and edge labels\n",
        "    mpl_draw(G_rx, pos=rx.shell_layout(G_rx), with_labels=True, edge_labels=str, node_color=node_color)\n",
        "\n",
        "\n",
        "draw_rx_tsp_solution(tsp.graph, best_order)"
      ],
      "metadata": {
        "id": "zkSvmiGeUuXF",
        "colab": {
          "base_uri": "https://localhost:8080/",
          "height": 552
        },
        "outputId": "29e20d89-68cd-49de-c993-ef9a170fb228"
      },
      "execution_count": 10,
      "outputs": [
        {
          "output_type": "stream",
          "name": "stdout",
          "text": [
            "order = (0, 1, 2, 3) Distance = 236.0\n",
            "Best order from brute force = (0, 1, 2, 3) with total distance = 236.0\n"
          ]
        },
        {
          "output_type": "display_data",
          "data": {
            "text/plain": [
              "<Figure size 640x480 with 1 Axes>"
            ],
            "image/png": "[encoded data removed]"
          },
          "metadata": {}
        }
      ]
    },
    {
      "cell_type": "markdown",
      "source": [
        "**Formulating the TSP as a Quadratic Program (QP)**\n",
        "\n",
        "This section translates the Traveling Salesman Problem into a **Quadratic Program (QP)** formulation using Qiskit's optimization tools.\n",
        "\n",
        "- The method `tsp.to_quadratic_program()` performs the mathematical **mapping from the TSP to a QP**.\n",
        "- The resulting `qp` object contains:\n",
        "  - **Binary variables** representing whether a city is visited at a specific position.\n",
        "  - **Objective function** that encodes the total distance traveled.\n",
        "  - **Constraints** that enforce a valid Hamiltonian cycle:\n",
        "    - Each city is visited exactly once.\n",
        "    - Each position in the tour is occupied by exactly one city.\n",
        "\n",
        "This QP formulation is a necessary step in order to later **map the problem to an Ising Hamiltonian**, which can be solved by quantum or quantum-inspired algorithms.\n",
        "\n",
        "The command `qp.prettyprint()` displays the structure of the QP clearly, showing the objective and constraints in human-readable form."
      ],
      "metadata": {
        "id": "TM0j9xInevg0"
      }
    },
    {
      "cell_type": "code",
      "source": [
        "# Mapping to Ising problem\n",
        "qp = tsp.to_quadratic_program()\n",
        "print(qp.prettyprint())"
      ],
      "metadata": {
        "id": "Jjt5Yt0LUz-x",
        "colab": {
          "base_uri": "https://localhost:8080/"
        },
        "outputId": "1bbab66d-8968-442b-cc31-a1923a3f7186"
      },
      "execution_count": 11,
      "outputs": [
        {
          "output_type": "stream",
          "name": "stdout",
          "text": [
            "Problem name: TSP\n",
            "\n",
            "Minimize\n",
            "  48*x_0_0*x_1_1 + 48*x_0_0*x_1_3 + 91*x_0_0*x_2_1 + 91*x_0_0*x_2_3\n",
            "  + 33*x_0_0*x_3_1 + 33*x_0_0*x_3_3 + 48*x_0_1*x_1_0 + 48*x_0_1*x_1_2\n",
            "  + 91*x_0_1*x_2_0 + 91*x_0_1*x_2_2 + 33*x_0_1*x_3_0 + 33*x_0_1*x_3_2\n",
            "  + 48*x_0_2*x_1_1 + 48*x_0_2*x_1_3 + 91*x_0_2*x_2_1 + 91*x_0_2*x_2_3\n",
            "  + 33*x_0_2*x_3_1 + 33*x_0_2*x_3_3 + 48*x_0_3*x_1_0 + 48*x_0_3*x_1_2\n",
            "  + 91*x_0_3*x_2_0 + 91*x_0_3*x_2_2 + 33*x_0_3*x_3_0 + 33*x_0_3*x_3_2\n",
            "  + 63*x_1_0*x_2_1 + 63*x_1_0*x_2_3 + 71*x_1_0*x_3_1 + 71*x_1_0*x_3_3\n",
            "  + 63*x_1_1*x_2_0 + 63*x_1_1*x_2_2 + 71*x_1_1*x_3_0 + 71*x_1_1*x_3_2\n",
            "  + 63*x_1_2*x_2_1 + 63*x_1_2*x_2_3 + 71*x_1_2*x_3_1 + 71*x_1_2*x_3_3\n",
            "  + 63*x_1_3*x_2_0 + 63*x_1_3*x_2_2 + 71*x_1_3*x_3_0 + 71*x_1_3*x_3_2\n",
            "  + 92*x_2_0*x_3_1 + 92*x_2_0*x_3_3 + 92*x_2_1*x_3_0 + 92*x_2_1*x_3_2\n",
            "  + 92*x_2_2*x_3_1 + 92*x_2_2*x_3_3 + 92*x_2_3*x_3_0 + 92*x_2_3*x_3_2\n",
            "\n",
            "Subject to\n",
            "  Linear constraints (8)\n",
            "    x_0_0 + x_0_1 + x_0_2 + x_0_3 == 1  'c0'\n",
            "    x_1_0 + x_1_1 + x_1_2 + x_1_3 == 1  'c1'\n",
            "    x_2_0 + x_2_1 + x_2_2 + x_2_3 == 1  'c2'\n",
            "    x_3_0 + x_3_1 + x_3_2 + x_3_3 == 1  'c3'\n",
            "    x_0_0 + x_1_0 + x_2_0 + x_3_0 == 1  'c4'\n",
            "    x_0_1 + x_1_1 + x_2_1 + x_3_1 == 1  'c5'\n",
            "    x_0_2 + x_1_2 + x_2_2 + x_3_2 == 1  'c6'\n",
            "    x_0_3 + x_1_3 + x_2_3 + x_3_3 == 1  'c7'\n",
            "\n",
            "  Binary variables (16)\n",
            "    x_0_0 x_0_1 x_0_2 x_0_3 x_1_0 x_1_1 x_1_2 x_1_3 x_2_0 x_2_1 x_2_2 x_2_3\n",
            "    x_3_0 x_3_1 x_3_2 x_3_3\n",
            "\n"
          ]
        }
      ]
    },
    {
      "cell_type": "markdown",
      "source": [
        "**Mapping the Quadratic Program to an Ising Hamiltonian**\n",
        "\n",
        "This section continues the pipeline by converting the **Quadratic Program (QP)** into an **Ising Hamiltonian**, which is a key representation for solving the problem using quantum algorithms.\n",
        "\n",
        "- `QuadraticProgramToQubo()` converts the QP to a **Quadratic Unconstrained Binary Optimization (QUBO)** form. This is required before mapping to the Ising model.\n",
        "- `qubo.to_ising()` then maps the QUBO to a corresponding **Ising Hamiltonian**, which consists of:\n",
        "  - A **Hamiltonian operator (`qubitOp`)** that describes the energy landscape of the problem.\n",
        "  - An **offset** value that accounts for constant shifts in the energy.\n",
        "\n",
        "The final Ising Hamiltonian represents the TSP in a form that can be solved by quantum algorithms such as the **Quantum Approximate Optimization Algorithm (QAOA)**. The goal becomes finding the lowest-energy (ground state) configuration, which corresponds to the optimal tour."
      ],
      "metadata": {
        "id": "LrNHpo_Ae3DV"
      }
    },
    {
      "cell_type": "code",
      "source": [
        "from qiskit_optimization.converters import QuadraticProgramToQubo\n",
        "\n",
        "qp2qubo = QuadraticProgramToQubo()\n",
        "qubo = qp2qubo.convert(qp)\n",
        "qubitOp, offset = qubo.to_ising()\n",
        "print(\"Offset:\", offset)\n",
        "print(\"Ising Hamiltonian:\")\n",
        "print(str(qubitOp))"
      ],
      "metadata": {
        "id": "ew2K_iRnU7TP",
        "colab": {
          "base_uri": "https://localhost:8080/"
        },
        "outputId": "5b9d22a2-7760-47b4-b962-b609f3c24c12"
      },
      "execution_count": 12,
      "outputs": [
        {
          "output_type": "stream",
          "name": "stdout",
          "text": [
            "Offset: 51756.0\n",
            "Ising Hamiltonian:\n",
            "SparsePauliOp(['IIIIIIIIIIIIIIIZ', 'IIIIIIIIIIIIIIZI', 'IIIIIIIIIIIIIZII', 'IIIIIIIIIIIIZIII', 'IIIIIIIIIIIZIIII', 'IIIIIIIIIIZIIIII', 'IIIIIIIIIZIIIIII', 'IIIIIIIIZIIIIIII', 'IIIIIIIZIIIIIIII', 'IIIIIIZIIIIIIIII', 'IIIIIZIIIIIIIIII', 'IIIIZIIIIIIIIIII', 'IIIZIIIIIIIIIIII', 'IIZIIIIIIIIIIIII', 'IZIIIIIIIIIIIIII', 'ZIIIIIIIIIIIIIII', 'IIIIIIIIIIIIIIZZ', 'IIIIIIIIIIIIIZIZ', 'IIIIIIIIIIIIZIIZ', 'IIIIIIIIIIIZIIIZ', 'IIIIIIIIIIZIIIIZ', 'IIIIIIIIZIIIIIIZ', 'IIIIIIIZIIIIIIIZ', 'IIIIIIZIIIIIIIIZ', 'IIIIZIIIIIIIIIIZ', 'IIIZIIIIIIIIIIIZ', 'IIZIIIIIIIIIIIIZ', 'ZIIIIIIIIIIIIIIZ', 'IIIIIIIIIIIIIZZI', 'IIIIIIIIIIIIZIZI', 'IIIIIIIIIIIZIIZI', 'IIIIIIIIIIZIIIZI', 'IIIIIIIIIZIIIIZI', 'IIIIIIIZIIIIIIZI', 'IIIIIIZIIIIIIIZI', 'IIIIIZIIIIIIIIZI', 'IIIZIIIIIIIIIIZI', 'IIZIIIIIIIIIIIZI', 'IZIIIIIIIIIIIIZI', 'IIIIIIIIIIIIZZII', 'IIIIIIIIIIZIIZII', 'IIIIIIIIIZIIIZII', 'IIIIIIIIZIIIIZII', 'IIIIIIZIIIIIIZII', 'IIIIIZIIIIIIIZII', 'IIIIZIIIIIIIIZII', 'IIZIIIIIIIIIIZII', 'IZIIIIIIIIIIIZII', 'ZIIIIIIIIIIIIZII', 'IIIIIIIIIIIZZIII', 'IIIIIIIIIZIIZIII', 'IIIIIIIIZIIIZIII', 'IIIIIIIZIIIIZIII', 'IIIIIZIIIIIIZIII', 'IIIIZIIIIIIIZIII', 'IIIZIIIIIIIIZIII', 'IZIIIIIIIIIIZIII', 'ZIIIIIIIIIIIZIII', 'IIIIIIIIIIZZIIII', 'IIIIIIIIIZIZIIII', 'IIIIIIIIZIIZIIII', 'IIIIIIIZIIIZIIII', 'IIIIIIZIIIIZIIII', 'IIIIZIIIIIIZIIII', 'IIIZIIIIIIIZIIII', 'IIZIIIIIIIIZIIII', 'ZIIIIIIIIIIZIIII', 'IIIIIIIIIZZIIIII', 'IIIIIIIIZIZIIIII', 'IIIIIIIZIIZIIIII', 'IIIIIIZIIIZIIIII', 'IIIIIZIIIIZIIIII', 'IIIZIIIIIIZIIIII', 'IIZIIIIIIIZIIIII', 'IZIIIIIIIIZIIIII', 'IIIIIIIIZZIIIIII', 'IIIIIIZIIZIIIIII', 'IIIIIZIIIZIIIIII', 'IIIIZIIIIZIIIIII', 'IIZIIIIIIZIIIIII', 'IZIIIIIIIZIIIIII', 'ZIIIIIIIIZIIIIII', 'IIIIIIIZZIIIIIII', 'IIIIIZIIZIIIIIII', 'IIIIZIIIZIIIIIII', 'IIIZIIIIZIIIIIII', 'IZIIIIIIZIIIIIII', 'ZIIIIIIIZIIIIIII', 'IIIIIIZZIIIIIIII', 'IIIIIZIZIIIIIIII', 'IIIIZIIZIIIIIIII', 'IIIZIIIZIIIIIIII', 'IIZIIIIZIIIIIIII', 'ZIIIIIIZIIIIIIII', 'IIIIIZZIIIIIIIII', 'IIIIZIZIIIIIIIII', 'IIIZIIZIIIIIIIII', 'IIZIIIZIIIIIIIII', 'IZIIIIZIIIIIIIII', 'IIIIZZIIIIIIIIII', 'IIZIIZIIIIIIIIII', 'IZIIIZIIIIIIIIII', 'ZIIIIZIIIIIIIIII', 'IIIZZIIIIIIIIIII', 'IZIIZIIIIIIIIIII', 'ZIIIZIIIIIIIIIII', 'IIZZIIIIIIIIIIII', 'IZIZIIIIIIIIIIII', 'ZIIZIIIIIIIIIIII', 'IZZIIIIIIIIIIIII', 'ZIZIIIIIIIIIIIII', 'ZZIIIIIIIIIIIIII'],\n",
            "              coeffs=[-6456.  +0.j, -6456.  +0.j, -6456.  +0.j, -6456.  +0.j, -6461.  +0.j,\n",
            " -6461.  +0.j, -6461.  +0.j, -6461.  +0.j, -6493.  +0.j, -6493.  +0.j,\n",
            " -6493.  +0.j, -6493.  +0.j, -6468.  +0.j, -6468.  +0.j, -6468.  +0.j,\n",
            " -6468.  +0.j,  1592.5 +0.j,  1592.5 +0.j,  1592.5 +0.j,  1592.5 +0.j,\n",
            "    12.  +0.j,    12.  +0.j,  1592.5 +0.j,    22.75+0.j,    22.75+0.j,\n",
            "  1592.5 +0.j,     8.25+0.j,     8.25+0.j,  1592.5 +0.j,  1592.5 +0.j,\n",
            "    12.  +0.j,  1592.5 +0.j,    12.  +0.j,    22.75+0.j,  1592.5 +0.j,\n",
            "    22.75+0.j,     8.25+0.j,  1592.5 +0.j,     8.25+0.j,  1592.5 +0.j,\n",
            "    12.  +0.j,  1592.5 +0.j,    12.  +0.j,    22.75+0.j,  1592.5 +0.j,\n",
            "    22.75+0.j,     8.25+0.j,  1592.5 +0.j,     8.25+0.j,    12.  +0.j,\n",
            "    12.  +0.j,  1592.5 +0.j,    22.75+0.j,    22.75+0.j,  1592.5 +0.j,\n",
            "     8.25+0.j,     8.25+0.j,  1592.5 +0.j,  1592.5 +0.j,  1592.5 +0.j,\n",
            "  1592.5 +0.j,  1592.5 +0.j,    15.75+0.j,    15.75+0.j,  1592.5 +0.j,\n",
            "    17.75+0.j,    17.75+0.j,  1592.5 +0.j,  1592.5 +0.j,    15.75+0.j,\n",
            "  1592.5 +0.j,    15.75+0.j,    17.75+0.j,  1592.5 +0.j,    17.75+0.j,\n",
            "  1592.5 +0.j,    15.75+0.j,  1592.5 +0.j,    15.75+0.j,    17.75+0.j,\n",
            "  1592.5 +0.j,    17.75+0.j,    15.75+0.j,    15.75+0.j,  1592.5 +0.j,\n",
            "    17.75+0.j,    17.75+0.j,  1592.5 +0.j,  1592.5 +0.j,  1592.5 +0.j,\n",
            "  1592.5 +0.j,  1592.5 +0.j,    23.  +0.j,    23.  +0.j,  1592.5 +0.j,\n",
            "  1592.5 +0.j,    23.  +0.j,  1592.5 +0.j,    23.  +0.j,  1592.5 +0.j,\n",
            "    23.  +0.j,  1592.5 +0.j,    23.  +0.j,    23.  +0.j,    23.  +0.j,\n",
            "  1592.5 +0.j,  1592.5 +0.j,  1592.5 +0.j,  1592.5 +0.j,  1592.5 +0.j,\n",
            "  1592.5 +0.j,  1592.5 +0.j])\n"
          ]
        }
      ]
    },
    {
      "cell_type": "markdown",
      "source": [
        "**Solving the TSP Using a Classical Exact Eigensolver**\n",
        "\n",
        "At this stage, we use a **classical solver** to find the minimum-energy solution to the Ising Hamiltonian derived from the QUBO.\n",
        "\n",
        "- `MinimumEigenOptimizer(NumPyMinimumEigensolver())` wraps the Ising model in an optimizer that uses **NumPy's exact eigensolver** to compute the solution.\n",
        "- This classical eigensolver finds the **ground state** (lowest energy configuration), which corresponds to the shortest tour in the TSP instance.\n",
        "- The `.solve(qubo)` call applies the solver to the Ising representation of the problem, and the result includes both the optimal route and its cost.\n",
        "- `result.prettyprint()` displays the formatted solution for easier interpretation.\n",
        "\n",
        "This step allows us to verify correctness and visualize the optimal TSP tour using classical computation before moving on to quantum techniques."
      ],
      "metadata": {
        "id": "5INaJ-wKfM4W"
      }
    },
    {
      "cell_type": "code",
      "source": [
        "# solving Quadratic Program using exact classical eigensolver\n",
        "exact = MinimumEigenOptimizer(NumPyMinimumEigensolver())\n",
        "result = exact.solve(qubo)\n",
        "print(result.prettyprint())"
      ],
      "metadata": {
        "id": "BPWPLr5VVBhl",
        "colab": {
          "base_uri": "https://localhost:8080/"
        },
        "outputId": "530d0684-5279-491d-cea6-ae59d5f8cced"
      },
      "execution_count": 13,
      "outputs": [
        {
          "output_type": "stream",
          "name": "stdout",
          "text": [
            "objective function value: 236.0\n",
            "variable values: x_0_0=0.0, x_0_1=0.0, x_0_2=0.0, x_0_3=1.0, x_1_0=1.0, x_1_1=0.0, x_1_2=0.0, x_1_3=0.0, x_2_0=0.0, x_2_1=1.0, x_2_2=0.0, x_2_3=0.0, x_3_0=0.0, x_3_1=0.0, x_3_2=1.0, x_3_3=0.0\n",
            "status: SUCCESS\n"
          ]
        }
      ]
    },
    {
      "cell_type": "markdown",
      "source": [
        "**Verification of the TSP Solution Using the Hamiltonian**\n",
        "\n",
        "In this part of the code, we check that the solution obtained from the Ising model corresponds to the correct **TSP objective**:\n",
        "\n",
        "1. **Calculating the Eigenvalue**:\n",
        "   - We first use the `NumPyMinimumEigensolver` to compute the minimum eigenvalue of the Ising Hamiltonian using the `compute_minimum_eigenvalue(qubitOp)` method.\n",
        "   - This eigenvalue represents the **energy** of the system in its ground state, which corresponds to the optimal solution of the TSP.\n",
        "\n",
        "2. **Energy and Objective**:\n",
        "   - The `result.eigenvalue.real` gives the energy of the system, while adding the `offset` gives us the **TSP objective**, representing the total distance of the optimal tour.\n",
        "\n",
        "3. **Sampling the Most Likely State**:\n",
        "   - The `sample_most_likely(result.eigenstate)` method extracts the most likely state (bitstring) from the quantum solution.\n",
        "\n",
        "4. **Feasibility Check**:\n",
        "   - We check whether the sampled state is feasible with respect to the constraints of the problem using `qubo.is_feasible(x)`.\n",
        "\n",
        "5. **Interpreting the Solution**:\n",
        "   - The bitstring is then interpreted using `tsp.interpret(x)` to obtain the actual node visit order of the TSP solution.\n",
        "\n",
        "6. **Displaying the Solution**:\n",
        "   - Finally, the optimal solution path is displayed with `draw_tsp_solution(tsp.graph, z, colors, pos)`.\n",
        "\n",
        "This code verifies the correctness of the solution by comparing the computed energy with the TSP objective and ensures the feasibility and validity of the resulting solution."
      ],
      "metadata": {
        "id": "r21NzJLRfgEM"
      }
    },
    {
      "cell_type": "code",
      "source": [
        "# Check that it gives the right cost\n",
        "\n",
        "# Making the Hamiltonian in its full form and getting the lowest eigenvalue and eigenvector\n",
        "ee = NumPyMinimumEigensolver()\n",
        "result = ee.compute_minimum_eigenvalue(qubitOp)\n",
        "energy_exact = result.eigenvalue.real\n",
        "\n",
        "print(\"energy:\", result.eigenvalue.real)\n",
        "print(\"tsp objective:\", result.eigenvalue.real + offset)\n",
        "x = tsp.sample_most_likely(result.eigenstate)\n",
        "print(\"feasible:\", qubo.is_feasible(x))\n",
        "z = tsp.interpret(x)\n",
        "print(\"solution:\", z)\n",
        "print(\"solution objective:\", tsp.tsp_value(z, adj_matrix))\n",
        "draw_rx_tsp_solution(tsp.graph, z)"
      ],
      "metadata": {
        "id": "cCODdunfVFpH",
        "colab": {
          "base_uri": "https://localhost:8080/",
          "height": 607
        },
        "outputId": "0037e42b-c152-401c-dac9-fe7aad7dae0e"
      },
      "execution_count": 14,
      "outputs": [
        {
          "output_type": "stream",
          "name": "stdout",
          "text": [
            "energy: -51520.0\n",
            "tsp objective: 236.0\n",
            "feasible: True\n",
            "solution: [1, 2, 3, 0]\n",
            "solution objective: 236.0\n"
          ]
        },
        {
          "output_type": "display_data",
          "data": {
            "text/plain": [
              "<Figure size 640x480 with 1 Axes>"
            ],
            "image/png": "[encoded data removed]"
          },
          "metadata": {}
        }
      ]
    },
    {
      "cell_type": "markdown",
      "source": [
        "# Run On a Quantum Computer"
      ],
      "metadata": {
        "id": "swIDxjtxVc4G"
      }
    },
    {
      "cell_type": "markdown",
      "source": [
        "**Solving the TSP with Variational Quantum Eigensolver (VQE)**\n",
        "\n",
        "In this section, we use a **Variational Quantum Eigensolver (VQE)** algorithm to solve the TSP. VQE is a hybrid quantum-classical algorithm that can find the minimum eigenvalue of a Hamiltonian, which corresponds to the optimal TSP solution.\n",
        "\n",
        "1. **Setting Random Seed**:\n",
        "   - We set the `algorithm_globals.random_seed` for reproducibility, ensuring that the results are consistent across runs.\n",
        "   \n",
        "2. **Optimizer and Ansatz**:\n",
        "   - The **Simultaneous Perturbation Stochastic Approximation (SPSA)** optimizer is used for VQE, with a maximum of 300 iterations (`maxiter=300`). This optimizer helps in minimizing the energy (Hamiltonian) through a series of iterations.\n",
        "   - The ansatz, a parameterized quantum circuit, is chosen as a **TwoLocal** circuit with the `ry` rotation and `cz` entanglement gates. This is repeated 5 times (`reps=5`), with a linear entanglement structure.\n",
        "\n",
        "3. **VQE Setup**:\n",
        "   - We initialize the VQE with the chosen optimizer (`SPSA`) and ansatz (`ry`). The quantum state is prepared by applying the parameterized ansatz, and the energy is minimized iteratively.\n",
        "\n",
        "4. **Compute Minimum Eigenvalue**:\n",
        "   - The `compute_minimum_eigenvalue(qubitOp)` method computes the eigenvalue of the Hamiltonian, which corresponds to the optimal TSP solution.\n",
        "   - The energy (the minimum eigenvalue) is printed out, and the optimization time (`result.optimizer_time`) is also displayed.\n",
        "\n",
        "5. **Sampling and Interpreting the Solution**:\n",
        "   - The most likely state (`result.eigenstate`) is sampled using `tsp.sample_most_likely()`, and it is checked for feasibility using `qubo.is_feasible(x)`.\n",
        "   - The solution is interpreted using `tsp.interpret(x)` to retrieve the node visit order for the TSP path.\n",
        "\n",
        "6. **Display Solution**:\n",
        "   - The optimal path is visualized using `draw_tsp_solution(tsp.graph, z, colors, pos)`.\n",
        "\n",
        "This approach leverages quantum computing to find the optimal TSP solution using the VQE algorithm, offering a glimpse of how quantum algorithms can potentially solve combinatorial optimization problems."
      ],
      "metadata": {
        "id": "oJgnOthIfsUU"
      }
    },
    {
      "cell_type": "code",
      "source": [
        "algorithm_globals.random_seed = 123\n",
        "seed = 10598"
      ],
      "metadata": {
        "id": "rtEACvvDVZBe"
      },
      "execution_count": 15,
      "outputs": []
    },
    {
      "cell_type": "markdown",
      "source": [
        "**Comparing Solutions Using Relative Error**\n",
        "\n",
        "To understand how close each algorithm comes to the best possible solution, we calculate the **relative error**:\n",
        "\n",
        "$ \\text{error} = \\frac{\\text{energy} - E_{\\min}}{|\\!E_{\\min}|} $\n",
        "\n",
        "This tells us how far each energy value is from the true minimum energy (usually from brute force or exact classical methods).\n",
        "\n",
        "- A relative error of **0** means a perfect match.\n",
        "- Larger values mean the algorithm found a less optimal solution.\n",
        "\n",
        "The bar chart shows this comparison visually, highlighting which method performs best."
      ],
      "metadata": {
        "id": "rRoqh1onjAFq"
      }
    },
    {
      "cell_type": "code",
      "source": [
        "import matplotlib.pyplot as plt\n",
        "\n",
        "# Define your optimizer and ansatz\n",
        "optimizer = SPSA(maxiter=300)\n",
        "ry = TwoLocal(qubitOp.num_qubits, \"ry\", \"cz\", reps=5, entanglement=\"linear\")\n",
        "\n",
        "# Setup VQE with callback\n",
        "vqe = SamplingVQE(sampler=Sampler(), ansatz=ry, optimizer=optimizer)\n",
        "\n",
        "# Run VQE and get result\n",
        "result = vqe.compute_minimum_eigenvalue(qubitOp)\n",
        "energy_vqe = result.eigenvalue.real\n",
        "\n",
        "# from brute force\n",
        "energy_brute = best_distance\n",
        "\n",
        "# add the offset\n",
        "energy_vqe += offset\n",
        "energy_brute += offset\n",
        "\n",
        "# Example energies: replace with your actual results\n",
        "energies = [energy_vqe, energy_brute, energy_exact]  # Replace these\n",
        "labels = [\"VQE\", \"Brute Force\", \"Exact\"]\n",
        "\n",
        "# Set the minimum energy (typically the exact one)\n",
        "E_min = min(energies)\n",
        "\n",
        "# Compute relative errors\n",
        "errors = [(E - E_min) / abs(E_min) for E in energies]\n",
        "\n",
        "# Plotting\n",
        "plt.figure(figsize=(8, 5))\n",
        "bars = plt.bar(labels, errors, color=[\"#FF6F61\", \"#6B5B95\", \"#88B04B\"])\n",
        "plt.title(\"Relative Error Compared to Minimum Energy\", fontsize=14)\n",
        "plt.ylabel(\"Relative Error\")\n",
        "plt.grid(axis='y', linestyle='--', alpha=0.6)\n",
        "\n",
        "# Add value labels on top\n",
        "for bar in bars:\n",
        "    height = bar.get_height()\n",
        "    plt.text(bar.get_x() + bar.get_width()/2, height + 0.005, f\"{height:.3e}\", ha='center', va='bottom')\n",
        "\n",
        "plt.tight_layout()\n",
        "plt.show()"
      ],
      "metadata": {
        "id": "Lk8D5_dsiYs8",
        "colab": {
          "base_uri": "https://localhost:8080/",
          "height": 370
        },
        "outputId": "daba4b33-a873-4d1f-e1be-bec6f89ac661"
      },
      "execution_count": 17,
      "outputs": [
        {
          "output_type": "error",
          "ename": "KeyboardInterrupt",
          "evalue": "",
          "traceback": [
            "\u001b[0;31m---------------------------------------------------------------------------\u001b[0m",
            "\u001b[0;31mKeyboardInterrupt\u001b[0m                         Traceback (most recent call last)",
            "\u001b[0;32m<ipython-input-17-c9a0affac1f1>\u001b[0m in \u001b[0;36m<cell line: 0>\u001b[0;34m()\u001b[0m\n\u001b[1;32m      9\u001b[0m \u001b[0;34m\u001b[0m\u001b[0m\n\u001b[1;32m     10\u001b[0m \u001b[0;31m# Run VQE and get result\u001b[0m\u001b[0;34m\u001b[0m\u001b[0;34m\u001b[0m\u001b[0m\n\u001b[0;32m---> 11\u001b[0;31m \u001b[0mresult\u001b[0m \u001b[0;34m=\u001b[0m \u001b[0mvqe\u001b[0m\u001b[0;34m.\u001b[0m\u001b[0mcompute_minimum_eigenvalue\u001b[0m\u001b[0;34m(\u001b[0m\u001b[0mqubitOp\u001b[0m\u001b[0;34m)\u001b[0m\u001b[0;34m\u001b[0m\u001b[0;34m\u001b[0m\u001b[0m\n\u001b[0m\u001b[1;32m     12\u001b[0m \u001b[0menergy_vqe\u001b[0m \u001b[0;34m=\u001b[0m \u001b[0mresult\u001b[0m\u001b[0;34m.\u001b[0m\u001b[0meigenvalue\u001b[0m\u001b[0;34m.\u001b[0m\u001b[0mreal\u001b[0m\u001b[0;34m\u001b[0m\u001b[0;34m\u001b[0m\u001b[0m\n\u001b[1;32m     13\u001b[0m \u001b[0;34m\u001b[0m\u001b[0m\n",
            "\u001b[0;32m/usr/local/lib/python3.11/dist-packages/qiskit_algorithms/minimum_eigensolvers/sampling_vqe.py\u001b[0m in \u001b[0;36mcompute_minimum_eigenvalue\u001b[0;34m(self, operator, aux_operators)\u001b[0m\n\u001b[1;32m    223\u001b[0m             \u001b[0mwas_updated\u001b[0m \u001b[0;34m=\u001b[0m \u001b[0m_set_default_batchsize\u001b[0m\u001b[0;34m(\u001b[0m\u001b[0mself\u001b[0m\u001b[0;34m.\u001b[0m\u001b[0moptimizer\u001b[0m\u001b[0;34m)\u001b[0m\u001b[0;34m\u001b[0m\u001b[0;34m\u001b[0m\u001b[0m\n\u001b[1;32m    224\u001b[0m \u001b[0;34m\u001b[0m\u001b[0m\n\u001b[0;32m--> 225\u001b[0;31m             optimizer_result = self.optimizer.minimize(\n\u001b[0m\u001b[1;32m    226\u001b[0m                 \u001b[0mfun\u001b[0m\u001b[0;34m=\u001b[0m\u001b[0mevaluate_energy\u001b[0m\u001b[0;34m,\u001b[0m  \u001b[0;31m# type: ignore[arg-type]\u001b[0m\u001b[0;34m\u001b[0m\u001b[0;34m\u001b[0m\u001b[0m\n\u001b[1;32m    227\u001b[0m                 \u001b[0mx0\u001b[0m\u001b[0;34m=\u001b[0m\u001b[0minitial_point\u001b[0m\u001b[0;34m,\u001b[0m\u001b[0;34m\u001b[0m\u001b[0;34m\u001b[0m\u001b[0m\n",
            "\u001b[0;32m/usr/local/lib/python3.11/dist-packages/qiskit_algorithms/optimizers/spsa.py\u001b[0m in \u001b[0;36mminimize\u001b[0;34m(self, fun, x0, jac, bounds)\u001b[0m\n\u001b[1;32m    556\u001b[0m             \u001b[0miteration_start\u001b[0m \u001b[0;34m=\u001b[0m \u001b[0mtime\u001b[0m\u001b[0;34m(\u001b[0m\u001b[0;34m)\u001b[0m\u001b[0;34m\u001b[0m\u001b[0;34m\u001b[0m\u001b[0m\n\u001b[1;32m    557\u001b[0m             \u001b[0;31m# compute update\u001b[0m\u001b[0;34m\u001b[0m\u001b[0;34m\u001b[0m\u001b[0m\n\u001b[0;32m--> 558\u001b[0;31m             \u001b[0mfx_estimate\u001b[0m\u001b[0;34m,\u001b[0m \u001b[0mupdate\u001b[0m \u001b[0;34m=\u001b[0m \u001b[0mself\u001b[0m\u001b[0;34m.\u001b[0m\u001b[0m_compute_update\u001b[0m\u001b[0;34m(\u001b[0m\u001b[0mfun\u001b[0m\u001b[0;34m,\u001b[0m \u001b[0mx\u001b[0m\u001b[0;34m,\u001b[0m \u001b[0mk\u001b[0m\u001b[0;34m,\u001b[0m \u001b[0mnext\u001b[0m\u001b[0;34m(\u001b[0m\u001b[0meps\u001b[0m\u001b[0;34m)\u001b[0m\u001b[0;34m,\u001b[0m \u001b[0mlse_solver\u001b[0m\u001b[0;34m)\u001b[0m\u001b[0;34m\u001b[0m\u001b[0;34m\u001b[0m\u001b[0m\n\u001b[0m\u001b[1;32m    559\u001b[0m \u001b[0;34m\u001b[0m\u001b[0m\n\u001b[1;32m    560\u001b[0m             \u001b[0;31m# trust region\u001b[0m\u001b[0;34m\u001b[0m\u001b[0;34m\u001b[0m\u001b[0m\n",
            "\u001b[0;32m/usr/local/lib/python3.11/dist-packages/qiskit_algorithms/optimizers/spsa.py\u001b[0m in \u001b[0;36m_compute_update\u001b[0;34m(self, loss, x, k, eps, lse_solver)\u001b[0m\n\u001b[1;32m    487\u001b[0m \u001b[0;34m\u001b[0m\u001b[0m\n\u001b[1;32m    488\u001b[0m         \u001b[0;31m# accumulate the number of samples\u001b[0m\u001b[0;34m\u001b[0m\u001b[0;34m\u001b[0m\u001b[0m\n\u001b[0;32m--> 489\u001b[0;31m         \u001b[0mvalue\u001b[0m\u001b[0;34m,\u001b[0m \u001b[0mgradient\u001b[0m\u001b[0;34m,\u001b[0m \u001b[0mhessian\u001b[0m \u001b[0;34m=\u001b[0m \u001b[0mself\u001b[0m\u001b[0;34m.\u001b[0m\u001b[0m_point_estimate\u001b[0m\u001b[0;34m(\u001b[0m\u001b[0mloss\u001b[0m\u001b[0;34m,\u001b[0m \u001b[0mx\u001b[0m\u001b[0;34m,\u001b[0m \u001b[0meps\u001b[0m\u001b[0;34m,\u001b[0m \u001b[0mnum_samples\u001b[0m\u001b[0;34m)\u001b[0m\u001b[0;34m\u001b[0m\u001b[0;34m\u001b[0m\u001b[0m\n\u001b[0m\u001b[1;32m    490\u001b[0m \u001b[0;34m\u001b[0m\u001b[0m\n\u001b[1;32m    491\u001b[0m         \u001b[0;31m# precondition gradient with inverse Hessian, if specified\u001b[0m\u001b[0;34m\u001b[0m\u001b[0;34m\u001b[0m\u001b[0m\n",
            "\u001b[0;32m/usr/local/lib/python3.11/dist-packages/qiskit_algorithms/optimizers/spsa.py\u001b[0m in \u001b[0;36m_point_estimate\u001b[0;34m(self, loss, x, eps, num_samples)\u001b[0m\n\u001b[1;32m    464\u001b[0m             \u001b[0mdelta2\u001b[0m \u001b[0;34m=\u001b[0m \u001b[0mdeltas2\u001b[0m\u001b[0;34m[\u001b[0m\u001b[0mi\u001b[0m\u001b[0;34m]\u001b[0m \u001b[0;32mif\u001b[0m \u001b[0mself\u001b[0m\u001b[0;34m.\u001b[0m\u001b[0msecond_order\u001b[0m \u001b[0;32melse\u001b[0m \u001b[0;32mNone\u001b[0m\u001b[0;34m\u001b[0m\u001b[0;34m\u001b[0m\u001b[0m\n\u001b[1;32m    465\u001b[0m \u001b[0;34m\u001b[0m\u001b[0m\n\u001b[0;32m--> 466\u001b[0;31m             value_sample, gradient_sample, hessian_sample = self._point_sample(\n\u001b[0m\u001b[1;32m    467\u001b[0m                 \u001b[0mloss\u001b[0m\u001b[0;34m,\u001b[0m \u001b[0mx\u001b[0m\u001b[0;34m,\u001b[0m \u001b[0meps\u001b[0m\u001b[0;34m,\u001b[0m \u001b[0mdelta1\u001b[0m\u001b[0;34m,\u001b[0m \u001b[0mdelta2\u001b[0m\u001b[0;34m\u001b[0m\u001b[0;34m\u001b[0m\u001b[0m\n\u001b[1;32m    468\u001b[0m             )\n",
            "\u001b[0;32m/usr/local/lib/python3.11/dist-packages/qiskit_algorithms/optimizers/spsa.py\u001b[0m in \u001b[0;36m_point_sample\u001b[0;34m(self, loss, x, eps, delta1, delta2)\u001b[0m\n\u001b[1;32m    425\u001b[0m \u001b[0;34m\u001b[0m\u001b[0m\n\u001b[1;32m    426\u001b[0m         \u001b[0;31m# batch evaluate the points (if possible)\u001b[0m\u001b[0;34m\u001b[0m\u001b[0;34m\u001b[0m\u001b[0m\n\u001b[0;32m--> 427\u001b[0;31m         \u001b[0mvalues\u001b[0m \u001b[0;34m=\u001b[0m \u001b[0m_batch_evaluate\u001b[0m\u001b[0;34m(\u001b[0m\u001b[0mloss\u001b[0m\u001b[0;34m,\u001b[0m \u001b[0mpoints\u001b[0m\u001b[0;34m,\u001b[0m \u001b[0mself\u001b[0m\u001b[0;34m.\u001b[0m\u001b[0m_max_evals_grouped\u001b[0m\u001b[0;34m)\u001b[0m\u001b[0;34m\u001b[0m\u001b[0;34m\u001b[0m\u001b[0m\n\u001b[0m\u001b[1;32m    428\u001b[0m \u001b[0;34m\u001b[0m\u001b[0m\n\u001b[1;32m    429\u001b[0m         \u001b[0mplus\u001b[0m \u001b[0;34m=\u001b[0m \u001b[0mvalues\u001b[0m\u001b[0;34m[\u001b[0m\u001b[0;36m0\u001b[0m\u001b[0;34m]\u001b[0m\u001b[0;34m\u001b[0m\u001b[0;34m\u001b[0m\u001b[0m\n",
            "\u001b[0;32m/usr/local/lib/python3.11/dist-packages/qiskit_algorithms/optimizers/spsa.py\u001b[0m in \u001b[0;36m_batch_evaluate\u001b[0;34m(function, points, max_evals_grouped, unpack_points)\u001b[0m\n\u001b[1;32m    711\u001b[0m             \u001b[0mresults\u001b[0m \u001b[0;34m+=\u001b[0m \u001b[0m_as_list\u001b[0m\u001b[0;34m(\u001b[0m\u001b[0mfunction\u001b[0m\u001b[0;34m(\u001b[0m\u001b[0;34m*\u001b[0m\u001b[0mbatch\u001b[0m\u001b[0;34m)\u001b[0m\u001b[0;34m)\u001b[0m\u001b[0;34m\u001b[0m\u001b[0;34m\u001b[0m\u001b[0m\n\u001b[1;32m    712\u001b[0m         \u001b[0;32melse\u001b[0m\u001b[0;34m:\u001b[0m\u001b[0;34m\u001b[0m\u001b[0;34m\u001b[0m\u001b[0m\n\u001b[0;32m--> 713\u001b[0;31m             \u001b[0mresults\u001b[0m \u001b[0;34m+=\u001b[0m \u001b[0m_as_list\u001b[0m\u001b[0;34m(\u001b[0m\u001b[0mfunction\u001b[0m\u001b[0;34m(\u001b[0m\u001b[0mbatch\u001b[0m\u001b[0;34m)\u001b[0m\u001b[0;34m)\u001b[0m\u001b[0;34m\u001b[0m\u001b[0;34m\u001b[0m\u001b[0m\n\u001b[0m\u001b[1;32m    714\u001b[0m \u001b[0;34m\u001b[0m\u001b[0m\n\u001b[1;32m    715\u001b[0m     \u001b[0;32mreturn\u001b[0m \u001b[0mresults\u001b[0m\u001b[0;34m\u001b[0m\u001b[0;34m\u001b[0m\u001b[0m\n",
            "\u001b[0;32m/usr/local/lib/python3.11/dist-packages/qiskit_algorithms/minimum_eigensolvers/sampling_vqe.py\u001b[0m in \u001b[0;36mevaluate_energy\u001b[0;34m(parameters)\u001b[0m\n\u001b[1;32m    318\u001b[0m             estimator_result = estimator.run(\n\u001b[1;32m    319\u001b[0m                 \u001b[0mbatch_size\u001b[0m \u001b[0;34m*\u001b[0m \u001b[0;34m[\u001b[0m\u001b[0mansatz\u001b[0m\u001b[0;34m]\u001b[0m\u001b[0;34m,\u001b[0m \u001b[0mbatch_size\u001b[0m \u001b[0;34m*\u001b[0m \u001b[0;34m[\u001b[0m\u001b[0moperator\u001b[0m\u001b[0;34m]\u001b[0m\u001b[0;34m,\u001b[0m \u001b[0mparameters\u001b[0m\u001b[0;34m\u001b[0m\u001b[0;34m\u001b[0m\u001b[0m\n\u001b[0;32m--> 320\u001b[0;31m             ).result()\n\u001b[0m\u001b[1;32m    321\u001b[0m             \u001b[0mvalues\u001b[0m \u001b[0;34m=\u001b[0m \u001b[0mestimator_result\u001b[0m\u001b[0;34m.\u001b[0m\u001b[0mvalues\u001b[0m\u001b[0;34m\u001b[0m\u001b[0;34m\u001b[0m\u001b[0m\n\u001b[1;32m    322\u001b[0m \u001b[0;34m\u001b[0m\u001b[0m\n",
            "\u001b[0;32m/usr/local/lib/python3.11/dist-packages/qiskit/primitives/primitive_job.py\u001b[0m in \u001b[0;36mresult\u001b[0;34m(self)\u001b[0m\n\u001b[1;32m     49\u001b[0m     \u001b[0;32mdef\u001b[0m \u001b[0mresult\u001b[0m\u001b[0;34m(\u001b[0m\u001b[0mself\u001b[0m\u001b[0;34m)\u001b[0m \u001b[0;34m->\u001b[0m \u001b[0mResultT\u001b[0m\u001b[0;34m:\u001b[0m\u001b[0;34m\u001b[0m\u001b[0;34m\u001b[0m\u001b[0m\n\u001b[1;32m     50\u001b[0m         \u001b[0mself\u001b[0m\u001b[0;34m.\u001b[0m\u001b[0m_check_submitted\u001b[0m\u001b[0;34m(\u001b[0m\u001b[0;34m)\u001b[0m\u001b[0;34m\u001b[0m\u001b[0;34m\u001b[0m\u001b[0m\n\u001b[0;32m---> 51\u001b[0;31m         \u001b[0;32mreturn\u001b[0m \u001b[0mself\u001b[0m\u001b[0;34m.\u001b[0m\u001b[0m_future\u001b[0m\u001b[0;34m.\u001b[0m\u001b[0mresult\u001b[0m\u001b[0;34m(\u001b[0m\u001b[0;34m)\u001b[0m\u001b[0;34m\u001b[0m\u001b[0;34m\u001b[0m\u001b[0m\n\u001b[0m\u001b[1;32m     52\u001b[0m \u001b[0;34m\u001b[0m\u001b[0m\n\u001b[1;32m     53\u001b[0m     \u001b[0;32mdef\u001b[0m \u001b[0mstatus\u001b[0m\u001b[0;34m(\u001b[0m\u001b[0mself\u001b[0m\u001b[0;34m)\u001b[0m \u001b[0;34m->\u001b[0m \u001b[0mJobStatus\u001b[0m\u001b[0;34m:\u001b[0m\u001b[0;34m\u001b[0m\u001b[0;34m\u001b[0m\u001b[0m\n",
            "\u001b[0;32m/usr/lib/python3.11/concurrent/futures/_base.py\u001b[0m in \u001b[0;36mresult\u001b[0;34m(self, timeout)\u001b[0m\n\u001b[1;32m    449\u001b[0m                     \u001b[0;32mreturn\u001b[0m \u001b[0mself\u001b[0m\u001b[0;34m.\u001b[0m\u001b[0m__get_result\u001b[0m\u001b[0;34m(\u001b[0m\u001b[0;34m)\u001b[0m\u001b[0;34m\u001b[0m\u001b[0;34m\u001b[0m\u001b[0m\n\u001b[1;32m    450\u001b[0m \u001b[0;34m\u001b[0m\u001b[0m\n\u001b[0;32m--> 451\u001b[0;31m                 \u001b[0mself\u001b[0m\u001b[0;34m.\u001b[0m\u001b[0m_condition\u001b[0m\u001b[0;34m.\u001b[0m\u001b[0mwait\u001b[0m\u001b[0;34m(\u001b[0m\u001b[0mtimeout\u001b[0m\u001b[0;34m)\u001b[0m\u001b[0;34m\u001b[0m\u001b[0;34m\u001b[0m\u001b[0m\n\u001b[0m\u001b[1;32m    452\u001b[0m \u001b[0;34m\u001b[0m\u001b[0m\n\u001b[1;32m    453\u001b[0m                 \u001b[0;32mif\u001b[0m \u001b[0mself\u001b[0m\u001b[0;34m.\u001b[0m\u001b[0m_state\u001b[0m \u001b[0;32min\u001b[0m \u001b[0;34m[\u001b[0m\u001b[0mCANCELLED\u001b[0m\u001b[0;34m,\u001b[0m \u001b[0mCANCELLED_AND_NOTIFIED\u001b[0m\u001b[0;34m]\u001b[0m\u001b[0;34m:\u001b[0m\u001b[0;34m\u001b[0m\u001b[0;34m\u001b[0m\u001b[0m\n",
            "\u001b[0;32m/usr/lib/python3.11/threading.py\u001b[0m in \u001b[0;36mwait\u001b[0;34m(self, timeout)\u001b[0m\n\u001b[1;32m    325\u001b[0m         \u001b[0;32mtry\u001b[0m\u001b[0;34m:\u001b[0m    \u001b[0;31m# restore state no matter what (e.g., KeyboardInterrupt)\u001b[0m\u001b[0;34m\u001b[0m\u001b[0;34m\u001b[0m\u001b[0m\n\u001b[1;32m    326\u001b[0m             \u001b[0;32mif\u001b[0m \u001b[0mtimeout\u001b[0m \u001b[0;32mis\u001b[0m \u001b[0;32mNone\u001b[0m\u001b[0;34m:\u001b[0m\u001b[0;34m\u001b[0m\u001b[0;34m\u001b[0m\u001b[0m\n\u001b[0;32m--> 327\u001b[0;31m                 \u001b[0mwaiter\u001b[0m\u001b[0;34m.\u001b[0m\u001b[0macquire\u001b[0m\u001b[0;34m(\u001b[0m\u001b[0;34m)\u001b[0m\u001b[0;34m\u001b[0m\u001b[0;34m\u001b[0m\u001b[0m\n\u001b[0m\u001b[1;32m    328\u001b[0m                 \u001b[0mgotit\u001b[0m \u001b[0;34m=\u001b[0m \u001b[0;32mTrue\u001b[0m\u001b[0;34m\u001b[0m\u001b[0;34m\u001b[0m\u001b[0m\n\u001b[1;32m    329\u001b[0m             \u001b[0;32melse\u001b[0m\u001b[0;34m:\u001b[0m\u001b[0;34m\u001b[0m\u001b[0;34m\u001b[0m\u001b[0m\n",
            "\u001b[0;31mKeyboardInterrupt\u001b[0m: "
          ]
        }
      ]
    },
    {
      "cell_type": "code",
      "source": [
        "print(\"energy:\", result.eigenvalue.real)\n",
        "print(\"time:\", result.optimizer_time)\n",
        "x = tsp.sample_most_likely(result.eigenstate)\n",
        "print(\"feasible:\", qubo.is_feasible(x))\n",
        "z = tsp.interpret(x)\n",
        "print(\"solution:\", z)\n",
        "print(\"solution objective:\", tsp.tsp_value(z, adj_matrix))\n",
        "draw_rx_tsp_solution(tsp.graph, z)"
      ],
      "metadata": {
        "id": "g2fpQVZ5Vjz4",
        "colab": {
          "base_uri": "https://localhost:8080/",
          "height": 607
        },
        "outputId": "cc38786e-c28a-4330-dd4e-7f2b238aaf51"
      },
      "execution_count": 15,
      "outputs": [
        {
          "output_type": "stream",
          "name": "stdout",
          "text": [
            "energy: -7326.02469952184\n",
            "time: 21.967929124832153\n",
            "feasible: True\n",
            "solution: [1, 2, 0]\n",
            "solution objective: 202.0\n"
          ]
        },
        {
          "output_type": "display_data",
          "data": {
            "text/plain": [
              "<Figure size 640x480 with 1 Axes>"
            ],
            "image/png": "[encoded data removed]"
          },
          "metadata": {}
        }
      ]
    },
    {
      "cell_type": "markdown",
      "source": [
        "**Using SamplingVQE to Solve the TSP with Minimum Eigen Optimizer**\n",
        "\n",
        "In this section, we leverage the **SamplingVQE** algorithm along with a **Minimum Eigen Optimizer** to solve the TSP problem. The approach combines quantum computation with classical optimization techniques to efficiently minimize the TSP objective.\n",
        "\n",
        "1. **Random Seed Setup**:\n",
        "   - We set the random seed (`algorithm_globals.random_seed = 123`) for reproducibility of results. This ensures the algorithm produces consistent outputs across different runs.\n",
        "\n",
        "2. **SamplingVQE and Minimum Eigen Optimizer**:\n",
        "   - The **SamplingVQE** algorithm, which was previously configured with an ansatz and optimizer, is now wrapped inside a **MinimumEigenOptimizer**. This optimizer utilizes the quantum VQE results to minimize the Hamiltonian and find the optimal TSP solution.\n",
        "\n",
        "3. **Solving the Quadratic Program (QP)**:\n",
        "   - The `vqe_optimizer.solve(qp)` method is used to solve the quadratic program (QP) formulated earlier in the process. The solver minimizes the energy function of the problem, helping to find the best route for the salesman.\n",
        "\n",
        "4. **Display Results**:\n",
        "   - The result of the optimization is displayed using `result.prettyprint()`, showing the optimization process and the minimum energy found.\n",
        "   \n",
        "5. **Solution Interpretation**:\n",
        "   - The quantum solution is interpreted using `tsp.interpret(x)`, which converts the output into a feasible TSP solution. The optimal node visit order is printed, along with the TSP value (objective function value), calculated using `tsp.tsp_value(z, adj_matrix)`.\n",
        "\n",
        "6. **Visualization**:\n",
        "   - The TSP solution is visualized on the graph using the `draw_tsp_solution(tsp.graph, z, colors, pos)` function, displaying the optimal path based on the quantum solution.\n",
        "\n",
        "By combining classical optimization with quantum algorithms, this approach showcases how quantum computing can be applied to combinatorial problems like the Traveling Salesman Problem (TSP)."
      ],
      "metadata": {
        "id": "7tptXc3agA86"
      }
    },
    {
      "cell_type": "code",
      "source": [
        "algorithm_globals.random_seed = 123\n",
        "seed = 10598"
      ],
      "metadata": {
        "id": "LcirZpdUVq46"
      },
      "execution_count": 16,
      "outputs": []
    },
    {
      "cell_type": "code",
      "source": [
        "# create minimum eigen optimizer based on SamplingVQE\n",
        "vqe_optimizer = MinimumEigenOptimizer(vqe)\n",
        "\n",
        "# solve quadratic program\n",
        "result = vqe_optimizer.solve(qp)\n",
        "print(result.prettyprint())\n",
        "\n",
        "z = tsp.interpret(x)\n",
        "print(\"solution:\", z)\n",
        "print(\"solution objective:\", tsp.tsp_value(z, adj_matrix))\n",
        "draw_rx_tsp_solution(tsp.graph, z)"
      ],
      "metadata": {
        "id": "UlgSjoBXV2hS",
        "colab": {
          "base_uri": "https://localhost:8080/",
          "height": 607
        },
        "outputId": "96155b75-cde8-4a8a-ed94-20b0347f2767"
      },
      "execution_count": 17,
      "outputs": [
        {
          "output_type": "stream",
          "name": "stdout",
          "text": [
            "objective function value: 202.0\n",
            "variable values: x_0_0=0.0, x_0_1=0.0, x_0_2=1.0, x_1_0=1.0, x_1_1=0.0, x_1_2=0.0, x_2_0=0.0, x_2_1=1.0, x_2_2=0.0\n",
            "status: SUCCESS\n",
            "solution: [1, 2, 0]\n",
            "solution objective: 202.0\n"
          ]
        },
        {
          "output_type": "display_data",
          "data": {
            "text/plain": [
              "<Figure size 640x480 with 1 Axes>"
            ],
            "image/png": "[encoded data removed]"
          },
          "metadata": {}
        }
      ]
    },
    {
      "cell_type": "code",
      "source": [],
      "metadata": {
        "id": "zf_TqnAwS1aX"
      },
      "execution_count": null,
      "outputs": []
    }
  ]
}